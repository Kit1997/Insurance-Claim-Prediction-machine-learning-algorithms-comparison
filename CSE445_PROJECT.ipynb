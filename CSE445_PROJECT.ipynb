{
  "nbformat": 4,
  "nbformat_minor": 0,
  "metadata": {
    "colab": {
      "name": "CSE445_PROJECT.ipynb",
      "provenance": [],
      "collapsed_sections": [],
      "include_colab_link": true
    },
    "kernelspec": {
      "name": "python3",
      "display_name": "Python 3"
    },
    "language_info": {
      "name": "python"
    }
  },
  "cells": [
    {
      "cell_type": "markdown",
      "metadata": {
        "id": "view-in-github",
        "colab_type": "text"
      },
      "source": [
        "<a href=\"https://colab.research.google.com/github/Kit1997/Insurance-Claim-Prediction-machine-learning-algorithms-comparison/blob/main/CSE445_PROJECT.ipynb\" target=\"_parent\"><img src=\"https://colab.research.google.com/assets/colab-badge.svg\" alt=\"Open In Colab\"/></a>"
      ]
    },
    {
      "cell_type": "code",
      "source": [
        ""
      ],
      "metadata": {
        "id": "nhe475abUkMK"
      },
      "execution_count": null,
      "outputs": []
    },
    {
      "cell_type": "code",
      "source": [
        "import pandas as pd\n",
        "import matplotlib.pyplot as plt\n",
        "import seaborn as sns\n",
        "import math\n",
        "import pickle\n",
        "from sklearn.linear_model import LinearRegression\n",
        "from sklearn.ensemble import RandomForestClassifier\n",
        "from sklearn.neighbors import KNeighborsRegressor\n",
        "from sklearn.tree import DecisionTreeClassifier\n",
        "from sklearn.ensemble import GradientBoostingRegressor\n",
        "from sklearn.model_selection import train_test_split\n",
        "from sklearn.metrics import accuracy_score\n",
        "from sklearn import metrics\n",
        "from sklearn import ensemble"
      ],
      "metadata": {
        "id": "2Xrrcy6Kxdu8"
      },
      "execution_count": null,
      "outputs": []
    },
    {
      "cell_type": "code",
      "source": [
        "from google.colab import drive\n",
        "drive.mount('/content/drive')"
      ],
      "metadata": {
        "colab": {
          "base_uri": "https://localhost:8080/"
        },
        "id": "gx7w9frCL3ny",
        "outputId": "4da23e44-fd67-4fd0-bc2b-1cfa74ba6843"
      },
      "execution_count": null,
      "outputs": [
        {
          "output_type": "stream",
          "name": "stdout",
          "text": [
            "Drive already mounted at /content/drive; to attempt to forcibly remount, call drive.mount(\"/content/drive\", force_remount=True).\n"
          ]
        }
      ]
    },
    {
      "cell_type": "code",
      "source": [
        "data = pd.read_csv('/content/drive/MyDrive/semester_213/CSE445/Insurace-Claim-Prediction-Machine-Learning-webApp/insurance3r2.csv')"
      ],
      "metadata": {
        "id": "5qzBEAcgxqwR"
      },
      "execution_count": null,
      "outputs": []
    },
    {
      "cell_type": "markdown",
      "source": [
        "## Data Analyzing"
      ],
      "metadata": {
        "id": "yi_dTOGnWXAZ"
      }
    },
    {
      "cell_type": "code",
      "source": [
        "data.shape"
      ],
      "metadata": {
        "colab": {
          "base_uri": "https://localhost:8080/"
        },
        "id": "0ai5nBx3ZIp7",
        "outputId": "89f3307b-0bd3-4f4b-eb16-f2afa6031398"
      },
      "execution_count": null,
      "outputs": [
        {
          "output_type": "execute_result",
          "data": {
            "text/plain": [
              "(1338, 9)"
            ]
          },
          "metadata": {},
          "execution_count": 31
        }
      ]
    },
    {
      "cell_type": "code",
      "source": [
        "data.describe()"
      ],
      "metadata": {
        "colab": {
          "base_uri": "https://localhost:8080/",
          "height": 300
        },
        "id": "XxC7HeC-ZQLB",
        "outputId": "13feed14-0342-48e6-aca9-5ba3429be792"
      },
      "execution_count": null,
      "outputs": [
        {
          "output_type": "execute_result",
          "data": {
            "text/html": [
              "\n",
              "  <div id=\"df-a9e639c9-eb98-4078-adfb-5ef4bc309ff0\">\n",
              "    <div class=\"colab-df-container\">\n",
              "      <div>\n",
              "<style scoped>\n",
              "    .dataframe tbody tr th:only-of-type {\n",
              "        vertical-align: middle;\n",
              "    }\n",
              "\n",
              "    .dataframe tbody tr th {\n",
              "        vertical-align: top;\n",
              "    }\n",
              "\n",
              "    .dataframe thead th {\n",
              "        text-align: right;\n",
              "    }\n",
              "</style>\n",
              "<table border=\"1\" class=\"dataframe\">\n",
              "  <thead>\n",
              "    <tr style=\"text-align: right;\">\n",
              "      <th></th>\n",
              "      <th>age</th>\n",
              "      <th>sex</th>\n",
              "      <th>bmi</th>\n",
              "      <th>steps</th>\n",
              "      <th>children</th>\n",
              "      <th>smoker</th>\n",
              "      <th>region</th>\n",
              "      <th>charges</th>\n",
              "      <th>insuranceclaim</th>\n",
              "    </tr>\n",
              "  </thead>\n",
              "  <tbody>\n",
              "    <tr>\n",
              "      <th>count</th>\n",
              "      <td>1338.000000</td>\n",
              "      <td>1338.000000</td>\n",
              "      <td>1338.000000</td>\n",
              "      <td>1338.000000</td>\n",
              "      <td>1338.000000</td>\n",
              "      <td>1338.000000</td>\n",
              "      <td>1338.000000</td>\n",
              "      <td>1338.000000</td>\n",
              "      <td>1338.000000</td>\n",
              "    </tr>\n",
              "    <tr>\n",
              "      <th>mean</th>\n",
              "      <td>39.207025</td>\n",
              "      <td>0.505232</td>\n",
              "      <td>30.663397</td>\n",
              "      <td>5328.623318</td>\n",
              "      <td>1.094918</td>\n",
              "      <td>0.204783</td>\n",
              "      <td>1.515695</td>\n",
              "      <td>13270.422265</td>\n",
              "      <td>0.585202</td>\n",
              "    </tr>\n",
              "    <tr>\n",
              "      <th>std</th>\n",
              "      <td>14.049960</td>\n",
              "      <td>0.500160</td>\n",
              "      <td>6.098187</td>\n",
              "      <td>2453.643236</td>\n",
              "      <td>1.205493</td>\n",
              "      <td>0.403694</td>\n",
              "      <td>1.104885</td>\n",
              "      <td>12110.011237</td>\n",
              "      <td>0.492871</td>\n",
              "    </tr>\n",
              "    <tr>\n",
              "      <th>min</th>\n",
              "      <td>18.000000</td>\n",
              "      <td>0.000000</td>\n",
              "      <td>15.960000</td>\n",
              "      <td>3000.000000</td>\n",
              "      <td>0.000000</td>\n",
              "      <td>0.000000</td>\n",
              "      <td>0.000000</td>\n",
              "      <td>1121.873900</td>\n",
              "      <td>0.000000</td>\n",
              "    </tr>\n",
              "    <tr>\n",
              "      <th>25%</th>\n",
              "      <td>27.000000</td>\n",
              "      <td>0.000000</td>\n",
              "      <td>26.296250</td>\n",
              "      <td>3008.000000</td>\n",
              "      <td>0.000000</td>\n",
              "      <td>0.000000</td>\n",
              "      <td>1.000000</td>\n",
              "      <td>4740.287150</td>\n",
              "      <td>0.000000</td>\n",
              "    </tr>\n",
              "    <tr>\n",
              "      <th>50%</th>\n",
              "      <td>39.000000</td>\n",
              "      <td>1.000000</td>\n",
              "      <td>30.400000</td>\n",
              "      <td>4007.000000</td>\n",
              "      <td>1.000000</td>\n",
              "      <td>0.000000</td>\n",
              "      <td>2.000000</td>\n",
              "      <td>9382.033000</td>\n",
              "      <td>1.000000</td>\n",
              "    </tr>\n",
              "    <tr>\n",
              "      <th>75%</th>\n",
              "      <td>51.000000</td>\n",
              "      <td>1.000000</td>\n",
              "      <td>34.693750</td>\n",
              "      <td>8004.000000</td>\n",
              "      <td>2.000000</td>\n",
              "      <td>0.000000</td>\n",
              "      <td>2.000000</td>\n",
              "      <td>16639.912515</td>\n",
              "      <td>1.000000</td>\n",
              "    </tr>\n",
              "    <tr>\n",
              "      <th>max</th>\n",
              "      <td>64.000000</td>\n",
              "      <td>1.000000</td>\n",
              "      <td>53.130000</td>\n",
              "      <td>10010.000000</td>\n",
              "      <td>5.000000</td>\n",
              "      <td>1.000000</td>\n",
              "      <td>3.000000</td>\n",
              "      <td>63770.428010</td>\n",
              "      <td>1.000000</td>\n",
              "    </tr>\n",
              "  </tbody>\n",
              "</table>\n",
              "</div>\n",
              "      <button class=\"colab-df-convert\" onclick=\"convertToInteractive('df-a9e639c9-eb98-4078-adfb-5ef4bc309ff0')\"\n",
              "              title=\"Convert this dataframe to an interactive table.\"\n",
              "              style=\"display:none;\">\n",
              "        \n",
              "  <svg xmlns=\"http://www.w3.org/2000/svg\" height=\"24px\"viewBox=\"0 0 24 24\"\n",
              "       width=\"24px\">\n",
              "    <path d=\"M0 0h24v24H0V0z\" fill=\"none\"/>\n",
              "    <path d=\"M18.56 5.44l.94 2.06.94-2.06 2.06-.94-2.06-.94-.94-2.06-.94 2.06-2.06.94zm-11 1L8.5 8.5l.94-2.06 2.06-.94-2.06-.94L8.5 2.5l-.94 2.06-2.06.94zm10 10l.94 2.06.94-2.06 2.06-.94-2.06-.94-.94-2.06-.94 2.06-2.06.94z\"/><path d=\"M17.41 7.96l-1.37-1.37c-.4-.4-.92-.59-1.43-.59-.52 0-1.04.2-1.43.59L10.3 9.45l-7.72 7.72c-.78.78-.78 2.05 0 2.83L4 21.41c.39.39.9.59 1.41.59.51 0 1.02-.2 1.41-.59l7.78-7.78 2.81-2.81c.8-.78.8-2.07 0-2.86zM5.41 20L4 18.59l7.72-7.72 1.47 1.35L5.41 20z\"/>\n",
              "  </svg>\n",
              "      </button>\n",
              "      \n",
              "  <style>\n",
              "    .colab-df-container {\n",
              "      display:flex;\n",
              "      flex-wrap:wrap;\n",
              "      gap: 12px;\n",
              "    }\n",
              "\n",
              "    .colab-df-convert {\n",
              "      background-color: #E8F0FE;\n",
              "      border: none;\n",
              "      border-radius: 50%;\n",
              "      cursor: pointer;\n",
              "      display: none;\n",
              "      fill: #1967D2;\n",
              "      height: 32px;\n",
              "      padding: 0 0 0 0;\n",
              "      width: 32px;\n",
              "    }\n",
              "\n",
              "    .colab-df-convert:hover {\n",
              "      background-color: #E2EBFA;\n",
              "      box-shadow: 0px 1px 2px rgba(60, 64, 67, 0.3), 0px 1px 3px 1px rgba(60, 64, 67, 0.15);\n",
              "      fill: #174EA6;\n",
              "    }\n",
              "\n",
              "    [theme=dark] .colab-df-convert {\n",
              "      background-color: #3B4455;\n",
              "      fill: #D2E3FC;\n",
              "    }\n",
              "\n",
              "    [theme=dark] .colab-df-convert:hover {\n",
              "      background-color: #434B5C;\n",
              "      box-shadow: 0px 1px 3px 1px rgba(0, 0, 0, 0.15);\n",
              "      filter: drop-shadow(0px 1px 2px rgba(0, 0, 0, 0.3));\n",
              "      fill: #FFFFFF;\n",
              "    }\n",
              "  </style>\n",
              "\n",
              "      <script>\n",
              "        const buttonEl =\n",
              "          document.querySelector('#df-a9e639c9-eb98-4078-adfb-5ef4bc309ff0 button.colab-df-convert');\n",
              "        buttonEl.style.display =\n",
              "          google.colab.kernel.accessAllowed ? 'block' : 'none';\n",
              "\n",
              "        async function convertToInteractive(key) {\n",
              "          const element = document.querySelector('#df-a9e639c9-eb98-4078-adfb-5ef4bc309ff0');\n",
              "          const dataTable =\n",
              "            await google.colab.kernel.invokeFunction('convertToInteractive',\n",
              "                                                     [key], {});\n",
              "          if (!dataTable) return;\n",
              "\n",
              "          const docLinkHtml = 'Like what you see? Visit the ' +\n",
              "            '<a target=\"_blank\" href=https://colab.research.google.com/notebooks/data_table.ipynb>data table notebook</a>'\n",
              "            + ' to learn more about interactive tables.';\n",
              "          element.innerHTML = '';\n",
              "          dataTable['output_type'] = 'display_data';\n",
              "          await google.colab.output.renderOutput(dataTable, element);\n",
              "          const docLink = document.createElement('div');\n",
              "          docLink.innerHTML = docLinkHtml;\n",
              "          element.appendChild(docLink);\n",
              "        }\n",
              "      </script>\n",
              "    </div>\n",
              "  </div>\n",
              "  "
            ],
            "text/plain": [
              "               age          sex  ...       charges  insuranceclaim\n",
              "count  1338.000000  1338.000000  ...   1338.000000     1338.000000\n",
              "mean     39.207025     0.505232  ...  13270.422265        0.585202\n",
              "std      14.049960     0.500160  ...  12110.011237        0.492871\n",
              "min      18.000000     0.000000  ...   1121.873900        0.000000\n",
              "25%      27.000000     0.000000  ...   4740.287150        0.000000\n",
              "50%      39.000000     1.000000  ...   9382.033000        1.000000\n",
              "75%      51.000000     1.000000  ...  16639.912515        1.000000\n",
              "max      64.000000     1.000000  ...  63770.428010        1.000000\n",
              "\n",
              "[8 rows x 9 columns]"
            ]
          },
          "metadata": {},
          "execution_count": 32
        }
      ]
    },
    {
      "cell_type": "code",
      "source": [
        "data.dtypes"
      ],
      "metadata": {
        "colab": {
          "base_uri": "https://localhost:8080/"
        },
        "id": "iZsznZAjanVQ",
        "outputId": "b2f13cbf-f229-44e4-f639-6581ebdf00c2"
      },
      "execution_count": null,
      "outputs": [
        {
          "output_type": "execute_result",
          "data": {
            "text/plain": [
              "age                 int64\n",
              "sex                 int64\n",
              "bmi               float64\n",
              "steps               int64\n",
              "children            int64\n",
              "smoker              int64\n",
              "region              int64\n",
              "charges           float64\n",
              "insuranceclaim      int64\n",
              "dtype: object"
            ]
          },
          "metadata": {},
          "execution_count": 33
        }
      ]
    },
    {
      "cell_type": "code",
      "source": [
        "data.isnull().sum()"
      ],
      "metadata": {
        "colab": {
          "base_uri": "https://localhost:8080/"
        },
        "id": "B5aEnyjeaulk",
        "outputId": "0cfe0669-8217-4768-a1ff-2f5391dfce33"
      },
      "execution_count": null,
      "outputs": [
        {
          "output_type": "execute_result",
          "data": {
            "text/plain": [
              "age               0\n",
              "sex               0\n",
              "bmi               0\n",
              "steps             0\n",
              "children          0\n",
              "smoker            0\n",
              "region            0\n",
              "charges           0\n",
              "insuranceclaim    0\n",
              "dtype: int64"
            ]
          },
          "metadata": {},
          "execution_count": 34
        }
      ]
    },
    {
      "cell_type": "markdown",
      "source": [
        "## Data Visualization"
      ],
      "metadata": {
        "id": "R-FTt5N-WnvQ"
      }
    },
    {
      "cell_type": "code",
      "source": [
        "plt.title('Class Distributions \\n (0: No Claim || 1: Claim)', fontsize=14)\n",
        "sns.set(style=\"darkgrid\")\n",
        "sns.countplot(data['insuranceclaim'])\n",
        "plt.grid()\n",
        "plt.show()"
      ],
      "metadata": {
        "colab": {
          "base_uri": "https://localhost:8080/",
          "height": 373
        },
        "id": "l3HEpdKPa42_",
        "outputId": "f87c8f33-ebd4-460d-952f-f33ce3ab2350"
      },
      "execution_count": null,
      "outputs": [
        {
          "output_type": "stream",
          "name": "stderr",
          "text": [
            "/usr/local/lib/python3.7/dist-packages/seaborn/_decorators.py:43: FutureWarning: Pass the following variable as a keyword arg: x. From version 0.12, the only valid positional argument will be `data`, and passing other arguments without an explicit keyword will result in an error or misinterpretation.\n",
            "  FutureWarning\n"
          ]
        },
        {
          "output_type": "display_data",
          "data": {
            "image/png": "[encoded data removed]",
            "text/plain": [
              "<Figure size 432x288 with 1 Axes>"
            ]
          },
          "metadata": {}
        }
      ]
    },
    {
      "cell_type": "code",
      "source": [
        "corr=data.corr()\n",
        "\n",
        "plt.figure(figsize=(12,10))\n",
        "sns.heatmap(corr,annot=True)\n",
        "plt.show()"
      ],
      "metadata": {
        "colab": {
          "base_uri": "https://localhost:8080/",
          "height": 672
        },
        "id": "HgW7qBrQcKe4",
        "outputId": "9caadaa0-8e43-43be-9df5-b87aa449f4e6"
      },
      "execution_count": null,
      "outputs": [
        {
          "output_type": "display_data",
          "data": {
            "image/png": "[encoded data removed]",
            "text/plain": [
              "<Figure size 864x720 with 2 Axes>"
            ]
          },
          "metadata": {}
        }
      ]
    },
    {
      "cell_type": "code",
      "source": [
        "plt.figure(figsize = (16, 8))\n",
        "sns.barplot(x = 'age', y = 'charges', data = data)\n",
        "plt.title(\"Age vs Charges\")"
      ],
      "metadata": {
        "colab": {
          "base_uri": "https://localhost:8080/",
          "height": 535
        },
        "id": "ttf5tzVDcfQy",
        "outputId": "41ca47a9-06a3-46e6-c837-262e99b2054d"
      },
      "execution_count": null,
      "outputs": [
        {
          "output_type": "execute_result",
          "data": {
            "text/plain": [
              "Text(0.5, 1.0, 'Age vs Charges')"
            ]
          },
          "metadata": {},
          "execution_count": 37
        },
        {
          "output_type": "display_data",
          "data": {
            "image/png": "[encoded data removed]",
            "text/plain": [
              "<Figure size 1152x576 with 1 Axes>"
            ]
          },
          "metadata": {}
        }
      ]
    },
    {
      "cell_type": "code",
      "source": [
        "plt.figure(figsize = (6, 6))\n",
        "sns.barplot(x = 'sex', y = 'charges', data = data)\n",
        "\n",
        "plt.title('sex vs charges\\n 0 = female || 1 = male')"
      ],
      "metadata": {
        "colab": {
          "base_uri": "https://localhost:8080/",
          "height": 443
        },
        "id": "D55GDhtAc75C",
        "outputId": "8ae693a4-7bd9-4ffd-a581-6f2869749d5c"
      },
      "execution_count": null,
      "outputs": [
        {
          "output_type": "execute_result",
          "data": {
            "text/plain": [
              "Text(0.5, 1.0, 'sex vs charges\\n 0 = female || 1 = male')"
            ]
          },
          "metadata": {},
          "execution_count": 38
        },
        {
          "output_type": "display_data",
          "data": {
            "image/png": "[encoded data removed]",
            "text/plain": [
              "<Figure size 432x432 with 1 Axes>"
            ]
          },
          "metadata": {}
        }
      ]
    },
    {
      "cell_type": "code",
      "source": [
        "plt.figure(figsize = (12, 8))\n",
        "sns.barplot(x = 'children', y = 'charges', data = data)\n",
        "\n",
        "plt.title('Number of children vs charges')"
      ],
      "metadata": {
        "colab": {
          "base_uri": "https://localhost:8080/",
          "height": 535
        },
        "id": "oBi4xOiGdB8j",
        "outputId": "9e982c79-e9c2-4316-f1d3-ac1096034fa1"
      },
      "execution_count": null,
      "outputs": [
        {
          "output_type": "execute_result",
          "data": {
            "text/plain": [
              "Text(0.5, 1.0, 'Number of children vs charges')"
            ]
          },
          "metadata": {},
          "execution_count": 39
        },
        {
          "output_type": "display_data",
          "data": {
            "image/png": "[encoded data removed]",
            "text/plain": [
              "<Figure size 864x576 with 1 Axes>"
            ]
          },
          "metadata": {}
        }
      ]
    },
    {
      "cell_type": "code",
      "source": [
        "plt.figure(figsize = (6, 6))\n",
        "sns.barplot(x = 'smoker', y = 'charges', data = data)\n",
        "plt.title('smoker vs charges\\n0 = non-smoker|| 1 = smoker')"
      ],
      "metadata": {
        "colab": {
          "base_uri": "https://localhost:8080/",
          "height": 443
        },
        "id": "2lRmtR9JdZXq",
        "outputId": "db79e3b1-70e3-4a37-a14a-db1152f0627d"
      },
      "execution_count": null,
      "outputs": [
        {
          "output_type": "execute_result",
          "data": {
            "text/plain": [
              "Text(0.5, 1.0, 'smoker vs charges\\n0 = non-smoker|| 1 = smoker')"
            ]
          },
          "metadata": {},
          "execution_count": 40
        },
        {
          "output_type": "display_data",
          "data": {
            "image/png": "[encoded data removed]",
            "text/plain": [
              "<Figure size 432x432 with 1 Axes>"
            ]
          },
          "metadata": {}
        }
      ]
    },
    {
      "cell_type": "markdown",
      "source": [
        "## Data Processe"
      ],
      "metadata": {
        "id": "agruIGkQXif-"
      }
    },
    {
      "cell_type": "code",
      "source": [
        "data=data.drop('region',axis=1)\n",
        "\n",
        "data.head()"
      ],
      "metadata": {
        "colab": {
          "base_uri": "https://localhost:8080/",
          "height": 206
        },
        "id": "Fsu06fnUcXsa",
        "outputId": "67ddd7a1-2ffd-4ddf-b2a4-254eeb3c65aa"
      },
      "execution_count": null,
      "outputs": [
        {
          "output_type": "execute_result",
          "data": {
            "text/html": [
              "\n",
              "  <div id=\"df-ebe6af1a-3339-4b00-aebe-c42f24d0b123\">\n",
              "    <div class=\"colab-df-container\">\n",
              "      <div>\n",
              "<style scoped>\n",
              "    .dataframe tbody tr th:only-of-type {\n",
              "        vertical-align: middle;\n",
              "    }\n",
              "\n",
              "    .dataframe tbody tr th {\n",
              "        vertical-align: top;\n",
              "    }\n",
              "\n",
              "    .dataframe thead th {\n",
              "        text-align: right;\n",
              "    }\n",
              "</style>\n",
              "<table border=\"1\" class=\"dataframe\">\n",
              "  <thead>\n",
              "    <tr style=\"text-align: right;\">\n",
              "      <th></th>\n",
              "      <th>age</th>\n",
              "      <th>sex</th>\n",
              "      <th>bmi</th>\n",
              "      <th>steps</th>\n",
              "      <th>children</th>\n",
              "      <th>smoker</th>\n",
              "      <th>charges</th>\n",
              "      <th>insuranceclaim</th>\n",
              "    </tr>\n",
              "  </thead>\n",
              "  <tbody>\n",
              "    <tr>\n",
              "      <th>0</th>\n",
              "      <td>19</td>\n",
              "      <td>0</td>\n",
              "      <td>27.900</td>\n",
              "      <td>3009</td>\n",
              "      <td>0</td>\n",
              "      <td>1</td>\n",
              "      <td>16884.92400</td>\n",
              "      <td>1</td>\n",
              "    </tr>\n",
              "    <tr>\n",
              "      <th>1</th>\n",
              "      <td>18</td>\n",
              "      <td>1</td>\n",
              "      <td>33.770</td>\n",
              "      <td>3008</td>\n",
              "      <td>1</td>\n",
              "      <td>0</td>\n",
              "      <td>1725.55230</td>\n",
              "      <td>1</td>\n",
              "    </tr>\n",
              "    <tr>\n",
              "      <th>2</th>\n",
              "      <td>28</td>\n",
              "      <td>1</td>\n",
              "      <td>33.000</td>\n",
              "      <td>3009</td>\n",
              "      <td>3</td>\n",
              "      <td>0</td>\n",
              "      <td>4449.46200</td>\n",
              "      <td>0</td>\n",
              "    </tr>\n",
              "    <tr>\n",
              "      <th>3</th>\n",
              "      <td>33</td>\n",
              "      <td>1</td>\n",
              "      <td>22.705</td>\n",
              "      <td>10009</td>\n",
              "      <td>0</td>\n",
              "      <td>0</td>\n",
              "      <td>21984.47061</td>\n",
              "      <td>0</td>\n",
              "    </tr>\n",
              "    <tr>\n",
              "      <th>4</th>\n",
              "      <td>32</td>\n",
              "      <td>1</td>\n",
              "      <td>28.880</td>\n",
              "      <td>8010</td>\n",
              "      <td>0</td>\n",
              "      <td>0</td>\n",
              "      <td>3866.85520</td>\n",
              "      <td>1</td>\n",
              "    </tr>\n",
              "  </tbody>\n",
              "</table>\n",
              "</div>\n",
              "      <button class=\"colab-df-convert\" onclick=\"convertToInteractive('df-ebe6af1a-3339-4b00-aebe-c42f24d0b123')\"\n",
              "              title=\"Convert this dataframe to an interactive table.\"\n",
              "              style=\"display:none;\">\n",
              "        \n",
              "  <svg xmlns=\"http://www.w3.org/2000/svg\" height=\"24px\"viewBox=\"0 0 24 24\"\n",
              "       width=\"24px\">\n",
              "    <path d=\"M0 0h24v24H0V0z\" fill=\"none\"/>\n",
              "    <path d=\"M18.56 5.44l.94 2.06.94-2.06 2.06-.94-2.06-.94-.94-2.06-.94 2.06-2.06.94zm-11 1L8.5 8.5l.94-2.06 2.06-.94-2.06-.94L8.5 2.5l-.94 2.06-2.06.94zm10 10l.94 2.06.94-2.06 2.06-.94-2.06-.94-.94-2.06-.94 2.06-2.06.94z\"/><path d=\"M17.41 7.96l-1.37-1.37c-.4-.4-.92-.59-1.43-.59-.52 0-1.04.2-1.43.59L10.3 9.45l-7.72 7.72c-.78.78-.78 2.05 0 2.83L4 21.41c.39.39.9.59 1.41.59.51 0 1.02-.2 1.41-.59l7.78-7.78 2.81-2.81c.8-.78.8-2.07 0-2.86zM5.41 20L4 18.59l7.72-7.72 1.47 1.35L5.41 20z\"/>\n",
              "  </svg>\n",
              "      </button>\n",
              "      \n",
              "  <style>\n",
              "    .colab-df-container {\n",
              "      display:flex;\n",
              "      flex-wrap:wrap;\n",
              "      gap: 12px;\n",
              "    }\n",
              "\n",
              "    .colab-df-convert {\n",
              "      background-color: #E8F0FE;\n",
              "      border: none;\n",
              "      border-radius: 50%;\n",
              "      cursor: pointer;\n",
              "      display: none;\n",
              "      fill: #1967D2;\n",
              "      height: 32px;\n",
              "      padding: 0 0 0 0;\n",
              "      width: 32px;\n",
              "    }\n",
              "\n",
              "    .colab-df-convert:hover {\n",
              "      background-color: #E2EBFA;\n",
              "      box-shadow: 0px 1px 2px rgba(60, 64, 67, 0.3), 0px 1px 3px 1px rgba(60, 64, 67, 0.15);\n",
              "      fill: #174EA6;\n",
              "    }\n",
              "\n",
              "    [theme=dark] .colab-df-convert {\n",
              "      background-color: #3B4455;\n",
              "      fill: #D2E3FC;\n",
              "    }\n",
              "\n",
              "    [theme=dark] .colab-df-convert:hover {\n",
              "      background-color: #434B5C;\n",
              "      box-shadow: 0px 1px 3px 1px rgba(0, 0, 0, 0.15);\n",
              "      filter: drop-shadow(0px 1px 2px rgba(0, 0, 0, 0.3));\n",
              "      fill: #FFFFFF;\n",
              "    }\n",
              "  </style>\n",
              "\n",
              "      <script>\n",
              "        const buttonEl =\n",
              "          document.querySelector('#df-ebe6af1a-3339-4b00-aebe-c42f24d0b123 button.colab-df-convert');\n",
              "        buttonEl.style.display =\n",
              "          google.colab.kernel.accessAllowed ? 'block' : 'none';\n",
              "\n",
              "        async function convertToInteractive(key) {\n",
              "          const element = document.querySelector('#df-ebe6af1a-3339-4b00-aebe-c42f24d0b123');\n",
              "          const dataTable =\n",
              "            await google.colab.kernel.invokeFunction('convertToInteractive',\n",
              "                                                     [key], {});\n",
              "          if (!dataTable) return;\n",
              "\n",
              "          const docLinkHtml = 'Like what you see? Visit the ' +\n",
              "            '<a target=\"_blank\" href=https://colab.research.google.com/notebooks/data_table.ipynb>data table notebook</a>'\n",
              "            + ' to learn more about interactive tables.';\n",
              "          element.innerHTML = '';\n",
              "          dataTable['output_type'] = 'display_data';\n",
              "          await google.colab.output.renderOutput(dataTable, element);\n",
              "          const docLink = document.createElement('div');\n",
              "          docLink.innerHTML = docLinkHtml;\n",
              "          element.appendChild(docLink);\n",
              "        }\n",
              "      </script>\n",
              "    </div>\n",
              "  </div>\n",
              "  "
            ],
            "text/plain": [
              "   age  sex     bmi  steps  children  smoker      charges  insuranceclaim\n",
              "0   19    0  27.900   3009         0       1  16884.92400               1\n",
              "1   18    1  33.770   3008         1       0   1725.55230               1\n",
              "2   28    1  33.000   3009         3       0   4449.46200               0\n",
              "3   33    1  22.705  10009         0       0  21984.47061               0\n",
              "4   32    1  28.880   8010         0       0   3866.85520               1"
            ]
          },
          "metadata": {},
          "execution_count": 41
        }
      ]
    },
    {
      "cell_type": "code",
      "source": [
        "\n",
        "entry=data.iloc[:,:-1]\n",
        "result=data.iloc[:,-1]"
      ],
      "metadata": {
        "id": "GMEqlnaR0qqF"
      },
      "execution_count": null,
      "outputs": []
    },
    {
      "cell_type": "code",
      "source": [
        "entry_train,entry_test,result_train,result_test=train_test_split(entry,result,test_size=0.3,random_state=42)"
      ],
      "metadata": {
        "id": "K98a6cpx0k-k"
      },
      "execution_count": null,
      "outputs": []
    },
    {
      "cell_type": "markdown",
      "source": [
        "## Creating a pickle model"
      ],
      "metadata": {
        "id": "waI7npHj6je3"
      }
    },
    {
      "cell_type": "code",
      "source": [
        "model = open('/content/drive/MyDrive/semester_213/CSE445/Insurace-Claim-Prediction-Machine-Learning-webApp/model.pkl','wb')\n",
        "model.close()\n"
      ],
      "metadata": {
        "id": "6jiMsBSC1abu"
      },
      "execution_count": null,
      "outputs": []
    },
    {
      "cell_type": "markdown",
      "source": [
        "## Linear Regression"
      ],
      "metadata": {
        "id": "oBozDJNiV4sk"
      }
    },
    {
      "cell_type": "code",
      "source": [
        "lin_mod_reg = LinearRegression()\n",
        "lin_mod_reg.fit(entry_train,result_train)\n",
        "lin_train_pred = lin_mod_reg.predict(entry_train)\n",
        "lin_test_pred = lin_mod_reg.predict(entry_test)\n",
        "lin_train_pred = [int(lin_train_pred) for lin_train_pred in lin_train_pred]\n",
        "lin_test_pred = [int(lin_test_pred) for lin_test_pred in lin_test_pred]\n",
        "print('Accuracy Score on Linear Regression(train):', int(accuracy_score(result_train,lin_train_pred)*100),\"%\")\n",
        "print('Accuracy Score on Linear Regression(test):', int(accuracy_score(result_test,lin_test_pred)*100),\"%\")\n",
        "print('RMSE Score on Linear Regression(train): ',int(math.sqrt( metrics.mean_squared_error(result_train,lin_train_pred))*100),\"%\")\n",
        "print('RMSE Score on Linear Regression(test): ',int(math.sqrt( metrics.mean_squared_error(result_test,lin_test_pred))*100),\"%\")"
      ],
      "metadata": {
        "colab": {
          "base_uri": "https://localhost:8080/"
        },
        "id": "hlVDL67SVq0v",
        "outputId": "d629d63a-ad58-463c-c3b8-00f2c8bf145b"
      },
      "execution_count": null,
      "outputs": [
        {
          "output_type": "stream",
          "name": "stdout",
          "text": [
            "Accuracy Score on Linear Regression(train): 53 %\n",
            "Accuracy Score on Linear Regression(test): 52 %\n",
            "RMSE Score on Linear Regression(train):  67 %\n",
            "RMSE Score on Linear Regression(test):  68 %\n"
          ]
        }
      ]
    },
    {
      "cell_type": "code",
      "source": [
        "model = open('/content/drive/MyDrive/semester_213/CSE445/Insurace-Claim-Prediction-Machine-Learning-webApp/model.pkl','ab+')\n",
        "pickle.dump(lin_mod_reg,model)\n",
        "model.close()"
      ],
      "metadata": {
        "id": "a4MsVzj42bZF"
      },
      "execution_count": null,
      "outputs": []
    },
    {
      "cell_type": "markdown",
      "source": [
        "## K-Nearest Neighbors"
      ],
      "metadata": {
        "id": "lusulJftyeqb"
      }
    },
    {
      "cell_type": "code",
      "source": [
        "neigh = KNeighborsRegressor(n_neighbors=2)\n",
        "neigh.fit(entry_train,result_train)\n",
        "neigh_train_pred = neigh.predict(entry_train)\n",
        "neigh_test_pred = neigh.predict(entry_test)\n",
        "neigh_train_pred = [int(neigh_train_pred) for neigh_train_pred in neigh_train_pred]\n",
        "neigh_test_pred = [int(neigh_test_pred) for neigh_test_pred in neigh_test_pred]\n",
        "print('Accuracy Score on K-Neighbors(train): ',int(accuracy_score(result_train,neigh_train_pred)*100),\"%\")\n",
        "print('RMSE Score on K-Neighbors(train): ',int(math.sqrt( metrics.mean_squared_error(result_train,neigh_train_pred))*100),\"%\")\n",
        "print('Accuracy Score on K-Neighbors(test): ',int(accuracy_score(result_test,neigh_test_pred)*100),\"%\")\n",
        "print('RMSE Score on K-Neighbors(test): ',int(math.sqrt( metrics.mean_squared_error(result_test,neigh_test_pred))*100),\"%\")"
      ],
      "metadata": {
        "colab": {
          "base_uri": "https://localhost:8080/"
        },
        "id": "C00i7X_Cyq2V",
        "outputId": "24fe8035-8efd-4b09-b5e5-7a9d47949da4"
      },
      "execution_count": null,
      "outputs": [
        {
          "output_type": "stream",
          "name": "stdout",
          "text": [
            "Accuracy Score on K-Neighbors(train):  82 %\n",
            "RMSE Score on K-Neighbors(train):  42 %\n",
            "Accuracy Score on K-Neighbors(test):  59 %\n",
            "RMSE Score on K-Neighbors(test):  63 %\n"
          ]
        }
      ]
    },
    {
      "cell_type": "code",
      "source": [
        "model = open('/content/drive/MyDrive/semester_213/CSE445/Insurace-Claim-Prediction-Machine-Learning-webApp/model.pkl','ab+')\n",
        "pickle.dump(neigh,model)\n",
        "model.close()"
      ],
      "metadata": {
        "id": "hGwnjSJx3IRF"
      },
      "execution_count": null,
      "outputs": []
    },
    {
      "cell_type": "markdown",
      "source": [
        "## Gradient Boosting Regressor"
      ],
      "metadata": {
        "id": "gFtmOrJMmQZg"
      }
    },
    {
      "cell_type": "code",
      "source": [
        "gbs = ensemble.GradientBoostingRegressor()\n",
        "gbs.fit(entry_train, result_train)\n",
        "reg_train_pred =  gbs.predict(entry_train)\n",
        "reg_train_pred = [int(reg_train_pred) for reg_train_pred in reg_train_pred]\n",
        "reg_test_pred =  gbs.predict(entry_test)\n",
        "reg_test_pred = [int(reg_test_pred) for reg_test_pred in reg_test_pred]\n",
        "print('Accuracy Score on Decision Tree Classifier(train): ',int(accuracy_score(result_train,reg_train_pred)*100),\"%\")\n",
        "print('RMSE Score on Decision Tree Classifie(train): ',int(math.sqrt( metrics.mean_squared_error(result_train,reg_train_pred))*100),\"%\")\n",
        "print('Accuracy Score on Decision Tree Classifier(test): ',int(accuracy_score(result_test,reg_test_pred)*100),\"%\")\n",
        "print('RMSE Score on Decision Tree Classifie(test): ',int(math.sqrt( metrics.mean_squared_error(result_test,reg_test_pred))*100),\"%\")"
      ],
      "metadata": {
        "colab": {
          "base_uri": "https://localhost:8080/"
        },
        "id": "6PZWkhGyixzq",
        "outputId": "ce9c8d52-bfba-47ae-cb99-5c1540cfad5f"
      },
      "execution_count": null,
      "outputs": [
        {
          "output_type": "stream",
          "name": "stdout",
          "text": [
            "Accuracy Score on Decision Tree Classifier(train):  62 %\n",
            "RMSE Score on Decision Tree Classifie(train):  60 %\n",
            "Accuracy Score on Decision Tree Classifier(test):  63 %\n",
            "RMSE Score on Decision Tree Classifie(test):  60 %\n"
          ]
        }
      ]
    },
    {
      "cell_type": "code",
      "source": [
        "model = open('/content/drive/MyDrive/semester_213/CSE445/Insurace-Claim-Prediction-Machine-Learning-webApp/model.pkl','ab+')\n",
        "pickle.dump(gbs,model)\n",
        "model.close()"
      ],
      "metadata": {
        "id": "DM2swX3w3Vv0"
      },
      "execution_count": null,
      "outputs": []
    },
    {
      "cell_type": "markdown",
      "source": [
        "## Random Forest Classifier"
      ],
      "metadata": {
        "id": "Kk3Vtlz-VhQq"
      }
    },
    {
      "cell_type": "code",
      "execution_count": null,
      "metadata": {
        "id": "jL5wYyOaZhwX",
        "colab": {
          "base_uri": "https://localhost:8080/"
        },
        "outputId": "55c2ed04-346b-4dcd-b171-ce359dfdc178"
      },
      "outputs": [
        {
          "output_type": "stream",
          "name": "stdout",
          "text": [
            "Accuracy Score on Random Forest Classifier(train):  100 %\n",
            "RMSE Score on Random Forest Classifier(train):  0 %\n",
            "Accuracy Score on Random Forest Classifier(test):  95 %\n",
            "RMSE Score on Random Forest Classifier(test):  21 %\n"
          ]
        }
      ],
      "source": [
        "ram_for= RandomForestClassifier()\n",
        "ram_for.fit(entry_train, result_train)\n",
        "ram_for_train_pred=ram_for.predict(entry_train)\n",
        "ram_for_test_pred=ram_for.predict(entry_test)\n",
        "print('Accuracy Score on Random Forest Classifier(train): ',int(accuracy_score(result_train,ram_for_train_pred)*100),\"%\")\n",
        "print('RMSE Score on Random Forest Classifier(train): ',int(math.sqrt( metrics.mean_squared_error(result_train,ram_for_train_pred))*100),\"%\")\n",
        "print('Accuracy Score on Random Forest Classifier(test): ',int(accuracy_score(result_test,ram_for_test_pred)*100),\"%\")\n",
        "print('RMSE Score on Random Forest Classifier(test): ',int(math.sqrt( metrics.mean_squared_error(result_test,ram_for_test_pred))*100),\"%\")"
      ]
    },
    {
      "cell_type": "code",
      "source": [
        "model = open('/content/drive/MyDrive/semester_213/CSE445/Insurace-Claim-Prediction-Machine-Learning-webApp/model.pkl','ab+')\n",
        "pickle.dump(ram_for,model)\n",
        "model.close()"
      ],
      "metadata": {
        "id": "b36IRg-23eRS"
      },
      "execution_count": null,
      "outputs": []
    },
    {
      "cell_type": "markdown",
      "source": [
        "##Decision Tree Classifier"
      ],
      "metadata": {
        "id": "lG0AwylmZO10"
      }
    },
    {
      "cell_type": "code",
      "source": [
        "dec_tree = DecisionTreeClassifier(criterion = 'entropy')\n",
        "dec_tree.fit(entry_train, result_train)\n",
        "dec_tree_test_pred =  dec_tree.predict(entry_test)\n",
        "dec_tree_train_pred =  dec_tree.predict(entry_train)\n",
        "print('Accuracy Score on Decision Tree Classifier(test): ',int(accuracy_score(result_test,dec_tree_test_pred)*100),\"%\")\n",
        "print('RMSE Score on Decision Tree Classifie(test): ',int(math.sqrt( metrics.mean_squared_error(result_test,dec_tree_test_pred))*100),\"%\")\n",
        "print('Accuracy Score on Decision Tree Classifier(train): ',int(accuracy_score(result_train,dec_tree_train_pred)*100),\"%\")\n",
        "print('RMSE Score on Decision Tree Classifie(train): ',int(math.sqrt( metrics.mean_squared_error(result_train,dec_tree_train_pred))*100),\"%\")"
      ],
      "metadata": {
        "colab": {
          "base_uri": "https://localhost:8080/"
        },
        "id": "BstmsI3kYex2",
        "outputId": "8f0eace6-ce7f-486d-aa0b-0eb2d7848a81"
      },
      "execution_count": null,
      "outputs": [
        {
          "output_type": "stream",
          "name": "stdout",
          "text": [
            "Accuracy Score on Decision Tree Classifier(test):  99 %\n",
            "RMSE Score on Decision Tree Classifie(test):  9 %\n",
            "Accuracy Score on Decision Tree Classifier(train):  100 %\n",
            "RMSE Score on Decision Tree Classifie(train):  0 %\n"
          ]
        }
      ]
    },
    {
      "cell_type": "code",
      "source": [
        "model = open('/content/drive/MyDrive/semester_213/CSE445/Insurace-Claim-Prediction-Machine-Learning-webApp/model.pkl','ab+')\n",
        "pickle.dump(dec_tree,model)\n",
        "model.close()"
      ],
      "metadata": {
        "id": "_baFlGdp3i07"
      },
      "execution_count": null,
      "outputs": []
    }
  ]
}